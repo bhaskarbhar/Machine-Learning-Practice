{
 "cells": [
  {
   "cell_type": "code",
   "execution_count": 1,
   "metadata": {},
   "outputs": [],
   "source": [
    "#Linear Regression, Ridge and Lasso Regression\n",
    "import pandas as pd\n",
    "import numpy as np\n",
    "import seaborn as sns\n",
    "import matplotlib.pyplot as plt\n",
    "%matplotlib inline"
   ]
  },
  {
   "cell_type": "code",
   "execution_count": null,
   "metadata": {},
   "outputs": [],
   "source": [
    "df = pd.read_csv(\"boston_house_prices.csv\")\n",
    "df.head()"
   ]
  },
  {
   "cell_type": "code",
   "execution_count": null,
   "metadata": {},
   "outputs": [],
   "source": [
    "df.columns = df.iloc[0]\n",
    "df = df[1:].reset_index(drop=True)\n",
    "df.head()"
   ]
  },
  {
   "cell_type": "code",
   "execution_count": null,
   "metadata": {},
   "outputs": [],
   "source": [
    "df.rename(columns={\"MEDV\":\"Price\"},inplace=True)\n",
    "df.head()\n",
    "#Price will be the dependent feature"
   ]
  },
  {
   "cell_type": "code",
   "execution_count": null,
   "metadata": {},
   "outputs": [],
   "source": [
    "#Dividing the dataset into independent and dependent features\n"
   ]
  },
  {
   "cell_type": "code",
   "execution_count": null,
   "metadata": {},
   "outputs": [],
   "source": [
    "X = df.iloc[:,:-1]#Independent features\n",
    "Y = df.iloc[:,-1]#Dependent features\n",
    "X.head()"
   ]
  },
  {
   "cell_type": "code",
   "execution_count": null,
   "metadata": {},
   "outputs": [],
   "source": [
    "#Linear Regression\n",
    "from sklearn.linear_model import LinearRegression\n",
    "from sklearn.model_selection import cross_val_score\n",
    "lin_reg = LinearRegression()\n",
    "mse = cross_val_score(lin_reg,X,Y,scoring=\"neg_mean_squared_error\",cv=5)\n",
    "print(mse)\n",
    "mean_mse = np.mean(mse)\n",
    "print(f\"Mean_MSE: {mean_mse}\")\n"
   ]
  },
  {
   "cell_type": "code",
   "execution_count": null,
   "metadata": {},
   "outputs": [],
   "source": [
    "#Ridge Regression\n",
    "from sklearn.linear_model import Ridge\n",
    "from sklearn.model_selection import GridSearchCV\n",
    "ridge = Ridge()\n",
    "\n",
    "params = {'alpha':[1e-15,1e-10,1e-8,1e-3,1e-2,1,5,10,20]}\n",
    "ridge_regressor = GridSearchCV(ridge,params,scoring='neg_mean_squared_error',cv=5)\n",
    "ridge_regressor.fit(X,Y)\n"
   ]
  },
  {
   "cell_type": "code",
   "execution_count": null,
   "metadata": {},
   "outputs": [],
   "source": [
    "print(ridge_regressor.best_params_) #Out of the alpha values 20 is the best\n",
    "print(ridge_regressor.best_score_) #See the mse is more than the mse calculated before\n",
    "#Linear REgression gave mse=-37.131807467699026\n",
    "#Ridge Regression gave mse=-32.38025025182518"
   ]
  },
  {
   "cell_type": "code",
   "execution_count": null,
   "metadata": {},
   "outputs": [],
   "source": [
    "#The score is good but still it can be better"
   ]
  },
  {
   "cell_type": "code",
   "execution_count": null,
   "metadata": {},
   "outputs": [],
   "source": [
    "#Lasso Regression\n",
    "from sklearn.linear_model import Lasso\n",
    "lasso = Lasso()\n",
    "\n",
    "params = {'alpha':[1e-15,1e-10,1e-8,1e-3,1e-2,1,5,10,20]}\n",
    "lasso_regressor = GridSearchCV(lasso,params,scoring='neg_mean_squared_error',cv=5)\n",
    "lasso_regressor.fit(X,Y)"
   ]
  },
  {
   "cell_type": "code",
   "execution_count": null,
   "metadata": {},
   "outputs": [],
   "source": [
    "print(lasso_regressor.best_params_)\n",
    "print(lasso_regressor.best_score_)"
   ]
  },
  {
   "cell_type": "code",
   "execution_count": null,
   "metadata": {},
   "outputs": [],
   "source": [
    "#Here also Lasso Regression is almost similar than simple Linear regression"
   ]
  },
  {
   "cell_type": "code",
   "execution_count": null,
   "metadata": {},
   "outputs": [],
   "source": [
    "#Now lets add more params that is more number of alpha values and do Ridge and Lasso again\n",
    "#Ridge Regression\n",
    "ridge1 = Ridge()\n",
    "params = {'alpha':[1e-15,1e-10,1e-8,1e-3,1e-2,1,5,10,20,25,30,35,40,45,50,55,100]}\n",
    "ridge_regressor1 = GridSearchCV(ridge1,params,scoring='neg_mean_squared_error',cv=5)\n",
    "ridge_regressor1.fit(X,Y)\n",
    "print(ridge_regressor1.best_params_)\n",
    "print(ridge_regressor1.best_score_)"
   ]
  },
  {
   "cell_type": "code",
   "execution_count": null,
   "metadata": {},
   "outputs": [],
   "source": [
    "#Ridge is performing better now\n",
    "#Lasso Regression\n",
    "lasso1 = Lasso()\n",
    "params = {'alpha':[1e-15,1e-10,1e-8,1e-3,1e-2,1,5,10,20,25,30,35,40,45,50,55,100]}\n",
    "lasso_regressor1 = GridSearchCV(lasso,params,scoring='neg_mean_squared_error',cv=5)\n",
    "lasso_regressor1.fit(X,Y)\n",
    "print(lasso_regressor1.best_params_)\n",
    "print(lasso_regressor1.best_score_)\n",
    "#Still Lasso does not give better result here"
   ]
  },
  {
   "cell_type": "code",
   "execution_count": null,
   "metadata": {},
   "outputs": [],
   "source": [
    "#Lets apply these regression on train and test data\n",
    "from sklearn.model_selection import train_test_split\n",
    "X_train, X_test, Y_train, Y_test = train_test_split(X,Y,test_size=0.33,random_state=42)\n"
   ]
  },
  {
   "cell_type": "code",
   "execution_count": null,
   "metadata": {},
   "outputs": [],
   "source": [
    "#Linear Regression\n",
    "lin_reg = LinearRegression()\n",
    "lin_reg.fit(X_train,Y_train)\n",
    "mse = cross_val_score(lin_reg,X_train,Y_train,scoring=\"neg_mean_squared_error\",cv=5)\n",
    "print(mse)\n",
    "mean_mse = np.mean(mse)\n",
    "print(f\"Mean_MSE: {mean_mse}\")"
   ]
  },
  {
   "cell_type": "code",
   "execution_count": null,
   "metadata": {},
   "outputs": [],
   "source": [
    "#Now the  score has been much better\n",
    "#Ridge Regression\n",
    "ridge1 = Ridge()\n",
    "params = {'alpha':[1e-15,1e-10,1e-8,1e-3,1e-2,1,5,10,20,25,30,35,40,45,50,55,100]}\n",
    "ridge_regressor1 = GridSearchCV(ridge1,params,scoring='neg_mean_squared_error',cv=5)\n",
    "ridge_regressor1.fit(X_train,Y_train)\n",
    "print(ridge_regressor1.best_params_)\n",
    "print(ridge_regressor1.best_score_)"
   ]
  },
  {
   "cell_type": "code",
   "execution_count": null,
   "metadata": {},
   "outputs": [],
   "source": [
    "#Lasso Regression\n",
    "lasso1 = Lasso()\n",
    "params = {'alpha':[1e-15,1e-10,1e-8,1e-3,1e-2,1,5,10,20,25,30,35,40,45,50,55,100]}\n",
    "lasso_regressor1 = GridSearchCV(lasso,params,scoring='neg_mean_squared_error',cv=5)\n",
    "lasso_regressor1.fit(X_train,Y_train)\n",
    "print(lasso_regressor1.best_params_)\n",
    "print(lasso_regressor1.best_score_)"
   ]
  },
  {
   "cell_type": "code",
   "execution_count": null,
   "metadata": {},
   "outputs": [],
   "source": [
    "y_pred = lasso_regressor1.predict(X_test)\n",
    "from sklearn.metrics import r2_score\n",
    "#Performance metrics\n",
    "r2_score_lasso = r2_score(y_pred,Y_test)\n",
    "print(r2_score_lasso)\n",
    "adjusted_r_score = 1 - (1-r2_score_lasso)*(len(Y_test)-1)/len(Y_test)-X_test.shape[1]-1\n",
    "print(adjusted_r_score)"
   ]
  },
  {
   "cell_type": "code",
   "execution_count": null,
   "metadata": {},
   "outputs": [],
   "source": [
    "y_pred_linear = lin_reg.predict(X_test)\n",
    "r2_score_linear = r2_score(y_pred_linear,Y_test)\n",
    "print(r2_score_linear)\n",
    "adjusted_r_score = 1 - (1-r2_score_linear)*(len(Y_test)-1)/len(Y_test)-X_test.shape[1]-1\n",
    "print(adjusted_r_score)"
   ]
  }
 ],
 "metadata": {
  "kernelspec": {
   "display_name": "Python 3",
   "language": "python",
   "name": "python3"
  },
  "language_info": {
   "codemirror_mode": {
    "name": "ipython",
    "version": 3
   },
   "file_extension": ".py",
   "mimetype": "text/x-python",
   "name": "python",
   "nbconvert_exporter": "python",
   "pygments_lexer": "ipython3",
   "version": "3.10.11"
  }
 },
 "nbformat": 4,
 "nbformat_minor": 2
}
